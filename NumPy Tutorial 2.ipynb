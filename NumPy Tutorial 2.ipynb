{
 "cells": [
  {
   "cell_type": "markdown",
   "id": "8d60ecca",
   "metadata": {},
   "source": [
    "### Array vs List"
   ]
  },
  {
   "cell_type": "code",
   "execution_count": 2,
   "id": "2f325abd",
   "metadata": {},
   "outputs": [],
   "source": [
    "import numpy as np"
   ]
  },
  {
   "cell_type": "code",
   "execution_count": 17,
   "id": "19929848",
   "metadata": {},
   "outputs": [
    {
     "name": "stdout",
     "output_type": "stream",
     "text": [
      "[1 2 3] [1, 2, 3]\n",
      "[2 3 4] [1, 2, 3, 4, 1]\n",
      "[2 4 6] [1, 2, 3, 1, 2, 3]\n",
      "[1.         1.41421356 1.73205081]\n",
      "14\n",
      "14\n",
      "[1 4 9]\n"
     ]
    }
   ],
   "source": [
    "a = np.array([1,2,3])\n",
    "l = [1,2,3]\n",
    "print(a,l)\n",
    "\n",
    "# First differencce: numpy does not support append() as in lists\n",
    "#a.append(4) # does not work\n",
    "l.append(4)\n",
    "\n",
    "# Second difference: broacasting is different\n",
    "a = a + 1 # this is a matrix operation\n",
    "l = l + [1] # this is a list operation\n",
    "\n",
    "print(a, l)\n",
    "\n",
    "\n",
    "a = np.array([1,2,3])\n",
    "l = [1,2,3]\n",
    "a = a * 2 # this is a matrix operation\n",
    "l = l * 2 # this is a list operation\n",
    "\n",
    "print(a, l)\n",
    "\n",
    "a = np.array([1,2,3])\n",
    "l = [1,2,3]\n",
    "a = np.sqrt(a) # this is a matrix operation\n",
    "\n",
    "print(a)\n",
    "\n",
    "\n",
    "\n",
    "# dot product\n",
    "l1 = [1,2,3]\n",
    "l2 = [1,2,3]\n",
    "a = np.array([1,2,3])\n",
    "print(np.dot(a,a))\n",
    "\n",
    "print(a @ a) # same as np.dot\n",
    "print(a * a) # element-wise product\n"
   ]
  },
  {
   "cell_type": "markdown",
   "id": "831c7572",
   "metadata": {},
   "source": [
    "### Speed test between np.array and list"
   ]
  },
  {
   "cell_type": "code",
   "execution_count": 26,
   "id": "58962aaf",
   "metadata": {},
   "outputs": [],
   "source": [
    "from timeit import default_timer as timer\n",
    "n = 1000\n",
    "a = np.random.randn(n)\n",
    "b = np.random.randn(n)\n",
    "\n",
    "A = list(a)\n",
    "B = list(b)\n",
    "\n",
    "T = len(a)\n",
    "\n",
    "def dot1():\n",
    "    dot = 0\n",
    "    for i in range(T):\n",
    "        dot += A[i]*B[i]\n",
    "    return dot\n",
    "\n",
    "def dot2():\n",
    "    return np.dot(a, b)\n",
    "\n",
    "start = timer()\n",
    "for t in range(T):\n",
    "    dot1()\n",
    "end = timer()\n",
    "t1 = end - start\n",
    "\n",
    "\n",
    "start = timer()\n",
    "for t in range(T):\n",
    "    dot2()\n",
    "end = timer()\n",
    "t2 = end - start\n",
    "\n"
   ]
  },
  {
   "cell_type": "code",
   "execution_count": 27,
   "id": "ddbf612d",
   "metadata": {
    "scrolled": true
   },
   "outputs": [
    {
     "name": "stdout",
     "output_type": "stream",
     "text": [
      "143.1388218991457\n"
     ]
    }
   ],
   "source": [
    "print(t1/t2)"
   ]
  },
  {
   "cell_type": "markdown",
   "id": "1740cb05",
   "metadata": {},
   "source": [
    "### Multidimensional Arrays"
   ]
  },
  {
   "cell_type": "code",
   "execution_count": 30,
   "id": "d57cf490",
   "metadata": {},
   "outputs": [
    {
     "data": {
      "text/plain": [
       "(2, 2, 2, 2, 2)"
      ]
     },
     "execution_count": 30,
     "metadata": {},
     "output_type": "execute_result"
    }
   ],
   "source": [
    "a = np.zeros((2))\n",
    "a.shape\n",
    "a = np.zeros((2,2))\n",
    "a.shape\n",
    "a = np.zeros((2,2,2))\n",
    "a.shape\n",
    "a = np.zeros((2,2,2,2))\n",
    "a.shape\n",
    "a = np.zeros((2,2,2,2,2))\n",
    "a.shape"
   ]
  },
  {
   "cell_type": "markdown",
   "id": "8f7620f5",
   "metadata": {},
   "source": [
    "### Matrix inversion"
   ]
  },
  {
   "cell_type": "code",
   "execution_count": 59,
   "id": "a9d2817a",
   "metadata": {},
   "outputs": [
    {
     "data": {
      "text/plain": [
       "array([1., 1., 1., 1., 1., 1., 1., 1., 1., 1.])"
      ]
     },
     "execution_count": 59,
     "metadata": {},
     "output_type": "execute_result"
    }
   ],
   "source": [
    "a = np.identity(10)\n",
    "np.linalg.inv(a)\n",
    "np.diag(a)"
   ]
  },
  {
   "cell_type": "code",
   "execution_count": 67,
   "id": "7dfa9fed",
   "metadata": {
    "scrolled": true
   },
   "outputs": [
    {
     "name": "stdout",
     "output_type": "stream",
     "text": [
      "[[4 2 2]\n",
      " [3 1 7]\n",
      " [9 2 4]]\n",
      "[[1 2]\n",
      " [2 0]]\n"
     ]
    }
   ],
   "source": [
    "a = np.random.randint(1, 10, (3,3))\n",
    "print(a)\n",
    "idxs = np.argwhere(a>5)\n",
    "print(idxs)\n",
    "#print(a[idxs])"
   ]
  },
  {
   "cell_type": "markdown",
   "id": "d8f3e478",
   "metadata": {},
   "source": [
    "### Append in Numpy arrays"
   ]
  },
  {
   "cell_type": "code",
   "execution_count": 79,
   "id": "1348076b",
   "metadata": {},
   "outputs": [
    {
     "name": "stdout",
     "output_type": "stream",
     "text": [
      "[[1 8]\n",
      " [2 8]]\n",
      "[[9 4]\n",
      " [6 2]]\n",
      "[[1 8]\n",
      " [2 8]\n",
      " [9 4]\n",
      " [6 2]]\n",
      "[[1 8]\n",
      " [2 8]\n",
      " [9 4]\n",
      " [6 2]]\n"
     ]
    },
    {
     "data": {
      "text/plain": [
       "(4, 2)"
      ]
     },
     "execution_count": 79,
     "metadata": {},
     "output_type": "execute_result"
    }
   ],
   "source": [
    "a = np.random.randint(1,10,(2,2))\n",
    "b = np.random.randint(1,10,(2,2))\n",
    "c = np.concatenate((a,b), axis=0) # same thing as in vstack and hstack\n",
    "c1 = np.vstack((a,b))\n",
    "print(a)\n",
    "print(b)\n",
    "print(c)\n",
    "print(c1)\n",
    "c.shape"
   ]
  },
  {
   "cell_type": "markdown",
   "id": "edf7cf44",
   "metadata": {},
   "source": [
    "### Broadcasting"
   ]
  },
  {
   "cell_type": "code",
   "execution_count": 81,
   "id": "e1831f14",
   "metadata": {},
   "outputs": [
    {
     "name": "stdout",
     "output_type": "stream",
     "text": [
      "[1 0 1]\n",
      "[[4 6 8]\n",
      " [2 5 4]]\n",
      "[[5 6 9]\n",
      " [3 5 5]]\n"
     ]
    }
   ],
   "source": [
    "a = np.array([1,0,1])\n",
    "b = np.random.randint(1,10,(2,3)) # the sizes do not match for matrix sum, but numpy does it anyways through Broadcasting.\n",
    "print(a)\n",
    "print(b)\n",
    "print(a +b)"
   ]
  },
  {
   "cell_type": "code",
   "execution_count": 90,
   "id": "c2e8e49c",
   "metadata": {
    "scrolled": true
   },
   "outputs": [
    {
     "name": "stdout",
     "output_type": "stream",
     "text": [
      "[ 0  1  2  3  4  5  6  7  8  9 10 11 12 13 14 15 16 17 18 19]\n",
      "[ 0.   2.5  5.   7.5 10. ]\n",
      "[0 6 8 7 2]\n"
     ]
    }
   ],
   "source": [
    "a = np.arange(20)\n",
    "print(a)\n",
    "\n",
    "\n",
    "a = np.linspace(0, 10, 5)\n",
    "print(a)\n",
    "\n",
    "a = np.random.choice(10, size = 5)\n",
    "print(a)"
   ]
  },
  {
   "cell_type": "code",
   "execution_count": 97,
   "id": "337230e1",
   "metadata": {},
   "outputs": [
    {
     "name": "stdout",
     "output_type": "stream",
     "text": [
      "[2 4 5 4 3 4 1 4 3 4]\n"
     ]
    }
   ],
   "source": [
    "a = np.random.choice([1,2,3,4,5], 10, p=[0.1, 0.1, 0.1, 0.6, 0.1])\n",
    "print(a)"
   ]
  },
  {
   "cell_type": "markdown",
   "id": "9c1da6d6",
   "metadata": {},
   "source": [
    "### Linear Algebra"
   ]
  },
  {
   "cell_type": "code",
   "execution_count": 119,
   "id": "de37e330",
   "metadata": {},
   "outputs": [
    {
     "name": "stdout",
     "output_type": "stream",
     "text": [
      "[[1. 2.]\n",
      " [3. 4.]]\n",
      "[[1 2]\n",
      " [3 4]]\n"
     ]
    }
   ],
   "source": [
    "a = np.array([[1,2],[3,4]])\n",
    "eigenvalues, eigenvectors = np.linalg.eig(a)\n",
    "#print(eigenvalues)\n",
    "# To verify the results of the eigendecomposition, use the following:\n",
    "# e_vec * e_val = A * e_vec\n",
    "#print(eigenvectors[:,0] * eigenvalues[0]) \n",
    "#print(a @ eigenvectors[:,0])\n",
    "\n",
    "# Or the following:\n",
    "#   a = Q * diag(eigenvalues) * Q.inv\n",
    "Q = eigenvectors.copy()\n",
    "print(np.dot( np.dot(Q,np.diag(eigenvalues)) , np.linalg.inv(Q)) )\n",
    "print(a)"
   ]
  },
  {
   "cell_type": "markdown",
   "id": "3198e68a",
   "metadata": {},
   "source": [
    "### Solving Linear Systems\n",
    "Q: The addmission fee at a small fair is \\\\$1.50 for children and \\\\$4.0 for adults. On a certain day, 2200 people enter the fair and \\\\$5050 is collected. How many children and how many adults attended the fair?\n",
    "\n",
    "$$ x_1 + x_2 = 2200$$\n",
    "$$ 1.5x_1 + 4x_2 = 5050$$"
   ]
  },
  {
   "cell_type": "code",
   "execution_count": 125,
   "id": "e58e0d79",
   "metadata": {},
   "outputs": [
    {
     "name": "stdout",
     "output_type": "stream",
     "text": [
      "[1500.  700.]\n",
      "[1500.  700.]\n"
     ]
    }
   ],
   "source": [
    "# 1. Manual Approach:\n",
    "A = np.array([[1,1],[1.5,4.0]])\n",
    "b = np.array([2200, 5050])\n",
    "x = np.dot(np.linalg.inv(A) , b) # equivalent to np.linalg.inv(A).dot(b)\n",
    "print(x)\n",
    "\n",
    "# 2. Better approach without computing the inverse (numerical issues)\n",
    "x = np.linalg.solve(A, b)\n",
    "print(x)"
   ]
  }
 ],
 "metadata": {
  "kernelspec": {
   "display_name": "Python 3 (ipykernel)",
   "language": "python",
   "name": "python3"
  },
  "language_info": {
   "codemirror_mode": {
    "name": "ipython",
    "version": 3
   },
   "file_extension": ".py",
   "mimetype": "text/x-python",
   "name": "python",
   "nbconvert_exporter": "python",
   "pygments_lexer": "ipython3",
   "version": "3.9.7"
  }
 },
 "nbformat": 4,
 "nbformat_minor": 5
}
