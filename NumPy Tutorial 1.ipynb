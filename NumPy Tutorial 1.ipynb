{
 "cells": [
  {
   "cell_type": "code",
   "execution_count": null,
   "id": "1c0b8c5a",
   "metadata": {},
   "outputs": [],
   "source": [
    "'''\n",
    "Numpy is much faster than lists (default way for specifying matrices in python)\n",
    "The reason is Numpy uses a fixed type to define values, which is a Int32 (4 bytes of 8 bits)\n",
    "While lists are defined based on the following:\n",
    "1. Size\n",
    "2. Reference Count\n",
    "3. Object Type\n",
    "4. Object Value\n",
    "\n",
    "As a result Numpy is faster because:\n",
    "1. Faster to read less bytes of memory\n",
    "2. When type checking when iterating over objects\n",
    "\n",
    "Numpy is like MATLAB in python.\n",
    "\n",
    "''' "
   ]
  },
  {
   "cell_type": "code",
   "execution_count": 4,
   "id": "c7c7edcb",
   "metadata": {
    "scrolled": true
   },
   "outputs": [
    {
     "name": "stdout",
     "output_type": "stream",
     "text": [
      "[1 2 3]\n",
      "[[1 2 3]\n",
      " [4 5 6]\n",
      " [7 8 9]]\n"
     ]
    }
   ],
   "source": [
    "import numpy as np\n",
    "a = np.array([1, 2, 3])\n",
    "print(a)\n",
    "a = np.array([[1,2,3], [4,5,6], [7,8,9]])\n",
    "print(a)"
   ]
  },
  {
   "cell_type": "code",
   "execution_count": 7,
   "id": "8c1cf76a",
   "metadata": {},
   "outputs": [
    {
     "data": {
      "text/plain": [
       "(3, 3)"
      ]
     },
     "execution_count": 7,
     "metadata": {},
     "output_type": "execute_result"
    }
   ],
   "source": [
    "# Get dim and shape\n",
    "a.ndim\n",
    "a.shape"
   ]
  },
  {
   "cell_type": "code",
   "execution_count": 8,
   "id": "0e684868",
   "metadata": {},
   "outputs": [
    {
     "data": {
      "text/plain": [
       "dtype('int32')"
      ]
     },
     "execution_count": 8,
     "metadata": {},
     "output_type": "execute_result"
    }
   ],
   "source": [
    "# Get type\n",
    "a.dtype"
   ]
  },
  {
   "cell_type": "code",
   "execution_count": 15,
   "id": "bc840518",
   "metadata": {},
   "outputs": [
    {
     "data": {
      "text/plain": [
       "2"
      ]
     },
     "execution_count": 15,
     "metadata": {},
     "output_type": "execute_result"
    }
   ],
   "source": [
    "# Specify data type\n",
    "a = np.array([1,2,3,4], dtype='int16')\n",
    "a.itemsize # this gives the number of bytes"
   ]
  },
  {
   "cell_type": "code",
   "execution_count": 17,
   "id": "b19cd464",
   "metadata": {},
   "outputs": [
    {
     "data": {
      "text/plain": [
       "4"
      ]
     },
     "execution_count": 17,
     "metadata": {},
     "output_type": "execute_result"
    }
   ],
   "source": [
    "# Get total size, total number of items\n",
    "a.size"
   ]
  },
  {
   "cell_type": "code",
   "execution_count": 20,
   "id": "0ef6fd8e",
   "metadata": {
    "scrolled": true
   },
   "outputs": [
    {
     "name": "stdout",
     "output_type": "stream",
     "text": [
      "[[100 100 100]\n",
      " [100 100 100]\n",
      " [100 100 100]]\n"
     ]
    }
   ],
   "source": [
    "a = np.zeros((3,3))+100\n",
    "a = np.full((3,3), 100)\n",
    "print(a)"
   ]
  },
  {
   "cell_type": "code",
   "execution_count": 24,
   "id": "68169a42",
   "metadata": {
    "scrolled": true
   },
   "outputs": [
    {
     "name": "stdout",
     "output_type": "stream",
     "text": [
      "[[0.12049141 0.60833226]\n",
      " [0.44281601 0.77077678]\n",
      " [0.85238795 0.83614592]\n",
      " [0.06488407 0.55601908]]\n"
     ]
    }
   ],
   "source": [
    "# random numbers\n",
    "a = np.random.rand(4,2)\n",
    "a = np.random.random_sample(a.shape)\n",
    "print(a)"
   ]
  },
  {
   "cell_type": "code",
   "execution_count": 41,
   "id": "c99edda3",
   "metadata": {
    "scrolled": true
   },
   "outputs": [
    {
     "name": "stdout",
     "output_type": "stream",
     "text": [
      "[[19 18]\n",
      " [12 13]\n",
      " [11 13]]\n"
     ]
    }
   ],
   "source": [
    "# random ints\n",
    "a = np.random.randint(10, 20+1, size=(3,2))\n",
    "print(a)"
   ]
  },
  {
   "cell_type": "code",
   "execution_count": 43,
   "id": "560e0379",
   "metadata": {},
   "outputs": [
    {
     "name": "stdout",
     "output_type": "stream",
     "text": [
      "[[1. 0. 0. 0.]\n",
      " [0. 1. 0. 0.]\n",
      " [0. 0. 1. 0.]\n",
      " [0. 0. 0. 1.]]\n"
     ]
    }
   ],
   "source": [
    "a = np.identity(4)\n",
    "print(a)"
   ]
  },
  {
   "cell_type": "code",
   "execution_count": 48,
   "id": "78eb5467",
   "metadata": {
    "scrolled": true
   },
   "outputs": [
    {
     "name": "stdout",
     "output_type": "stream",
     "text": [
      "[[1. 1. 1. 0. 0. 0. 0. 0. 0. 0. 0. 0.]\n",
      " [0. 0. 0. 1. 1. 1. 0. 0. 0. 0. 0. 0.]\n",
      " [0. 0. 0. 0. 0. 0. 1. 1. 1. 0. 0. 0.]\n",
      " [0. 0. 0. 0. 0. 0. 0. 0. 0. 1. 1. 1.]]\n"
     ]
    }
   ],
   "source": [
    "b = np.repeat(a, 3, axis=1)\n",
    "print(b)"
   ]
  },
  {
   "cell_type": "code",
   "execution_count": 50,
   "id": "762ee9f1",
   "metadata": {
    "scrolled": true
   },
   "outputs": [
    {
     "name": "stdout",
     "output_type": "stream",
     "text": [
      "[[1. 1. 1. 1. 1.]\n",
      " [1. 0. 0. 0. 1.]\n",
      " [1. 0. 9. 0. 1.]\n",
      " [1. 0. 0. 0. 1.]\n",
      " [1. 1. 1. 1. 1.]]\n"
     ]
    }
   ],
   "source": [
    "a = np.ones((5,5))\n",
    "b = np.zeros((3,3)); b[1,1]=9\n",
    "a[1:4, 1:4] = b\n",
    "print(a)"
   ]
  },
  {
   "cell_type": "code",
   "execution_count": 53,
   "id": "02c13fe2",
   "metadata": {
    "scrolled": true
   },
   "outputs": [
    {
     "name": "stdout",
     "output_type": "stream",
     "text": [
      "[[  1.   1.   1.]\n",
      " [  1.   1.   1.]\n",
      " [  1.   1. 100.]]\n",
      "[[1. 1. 1.]\n",
      " [1. 1. 1.]\n",
      " [1. 1. 1.]]\n"
     ]
    }
   ],
   "source": [
    "# Cautious when copying arrays\n",
    "a = np.ones((3,3))\n",
    "b = a\n",
    "a[2,2]=100\n",
    "print(b)\n",
    "\n",
    "# You have to use \"copy()\" instead of \"=\"\n",
    "a = np.ones((3,3))\n",
    "b = a.copy()\n",
    "a[2,2]=100\n",
    "print(b)"
   ]
  },
  {
   "cell_type": "code",
   "execution_count": 59,
   "id": "db4eb9c6",
   "metadata": {
    "scrolled": true
   },
   "outputs": [
    {
     "name": "stdout",
     "output_type": "stream",
     "text": [
      "[[0.70216582 0.06967119 0.69618097]\n",
      " [0.19370256 0.41672036 0.94858703]\n",
      " [0.04532458 0.14935122 0.31143079]]\n",
      "[[1.46801797 1.46801797 1.46801797]\n",
      " [1.55900995 1.55900995 1.55900995]\n",
      " [0.50610659 0.50610659 0.50610659]]\n"
     ]
    }
   ],
   "source": [
    "# Mathematics\n",
    "a = np.random.rand(3,3)\n",
    "b = np.ones(a.shape)\n",
    "c = np.dot(a, b) # matrix multiplication\n",
    "print(a)\n",
    "print(c)"
   ]
  },
  {
   "cell_type": "markdown",
   "id": "88669255",
   "metadata": {},
   "source": [
    "### Linear Algebra"
   ]
  },
  {
   "cell_type": "code",
   "execution_count": 65,
   "id": "736cbeea",
   "metadata": {
    "scrolled": true
   },
   "outputs": [
    {
     "name": "stdout",
     "output_type": "stream",
     "text": [
      "[[1 1 1]\n",
      " [1 1 1]]\n",
      "[[4 4 4]\n",
      " [4 4 4]\n",
      " [4 4 4]]\n",
      "[[4 4 4]\n",
      " [4 4 4]\n",
      " [4 4 4]]\n"
     ]
    }
   ],
   "source": [
    "a = np.full((2,3), 1)\n",
    "print(a)\n",
    "b = np.full((3,2), 2)\n",
    "print(np.dot(b, a))\n",
    "print(np.matmul(b, a))"
   ]
  },
  {
   "cell_type": "code",
   "execution_count": 72,
   "id": "01527877",
   "metadata": {},
   "outputs": [
    {
     "name": "stdout",
     "output_type": "stream",
     "text": [
      "[1. 1. 1.]\n"
     ]
    }
   ],
   "source": [
    "# Find the determinant\n",
    "c = np.identity(3)\n",
    "np.linalg.det(c)\n",
    "eigenvalues, eigenvectors = np.linalg.eig(c)\n",
    "print(eigenvalues)"
   ]
  },
  {
   "cell_type": "markdown",
   "id": "ebaa7891",
   "metadata": {},
   "source": [
    "### Statistics"
   ]
  },
  {
   "cell_type": "code",
   "execution_count": 79,
   "id": "5a1726bf",
   "metadata": {},
   "outputs": [
    {
     "data": {
      "text/plain": [
       "array([1.41744192, 1.40246628, 1.9146478 ])"
      ]
     },
     "execution_count": 79,
     "metadata": {},
     "output_type": "execute_result"
    }
   ],
   "source": [
    "a = np.random.rand(3,3)\n",
    "np.min(a)\n",
    "np.std(a)\n",
    "np.var(a)\n",
    "np.sum(a, axis=0)"
   ]
  },
  {
   "cell_type": "markdown",
   "id": "5ce578f3",
   "metadata": {},
   "source": [
    "### Rearranging matrices"
   ]
  },
  {
   "cell_type": "code",
   "execution_count": 83,
   "id": "577f79e5",
   "metadata": {
    "scrolled": true
   },
   "outputs": [
    {
     "name": "stdout",
     "output_type": "stream",
     "text": [
      "[[0.82154273]\n",
      " [0.76579845]\n",
      " [0.3776659 ]\n",
      " [0.30240606]\n",
      " [0.81036883]\n",
      " [0.50871102]\n",
      " [0.82929597]\n",
      " [0.54701696]\n",
      " [0.47193566]]\n"
     ]
    },
    {
     "data": {
      "text/plain": [
       "array([[0.82154273, 0.76579845, 0.3776659 ],\n",
       "       [0.30240606, 0.81036883, 0.50871102],\n",
       "       [0.82929597, 0.54701696, 0.47193566]])"
      ]
     },
     "execution_count": 83,
     "metadata": {},
     "output_type": "execute_result"
    }
   ],
   "source": [
    "a = np.random.rand(9, 1)\n",
    "print(a)\n",
    "a.reshape(3,3) # Important note: it is a row-major, filling along rows first"
   ]
  },
  {
   "cell_type": "markdown",
   "id": "e41190cc",
   "metadata": {},
   "source": [
    "### Vertical-Horizontal stacking of vectors or matrices"
   ]
  },
  {
   "cell_type": "code",
   "execution_count": 90,
   "id": "51b659f8",
   "metadata": {
    "scrolled": true
   },
   "outputs": [
    {
     "data": {
      "text/plain": [
       "array([[0.83340587, 0.93994217],\n",
       "       [0.29369038, 0.00655715],\n",
       "       [0.98938336, 0.44819947],\n",
       "       [0.24282794, 0.67878584],\n",
       "       [0.03437081, 0.29610494],\n",
       "       [0.35468055, 0.63777486]])"
      ]
     },
     "execution_count": 90,
     "metadata": {},
     "output_type": "execute_result"
    }
   ],
   "source": [
    "a = np.random.rand(3,2)\n",
    "b = np.random.rand(3,2)\n",
    "np.vstack([a, b])\n",
    "#np.hstack([a, b])"
   ]
  },
  {
   "cell_type": "markdown",
   "id": "ea27c389",
   "metadata": {},
   "source": [
    "### Load data from file"
   ]
  },
  {
   "cell_type": "code",
   "execution_count": 91,
   "id": "b1391467",
   "metadata": {
    "scrolled": true
   },
   "outputs": [],
   "source": [
    "# The best approach is genfromtext\n",
    "#data = np.genfromtext('data.text', delimiter=',')\n",
    "#data.astype('int32')"
   ]
  },
  {
   "cell_type": "markdown",
   "id": "ec73d5f1",
   "metadata": {},
   "source": [
    "### Boolean Masking and Advanced Indexing"
   ]
  },
  {
   "cell_type": "code",
   "execution_count": 107,
   "id": "37c034b8",
   "metadata": {},
   "outputs": [
    {
     "name": "stdout",
     "output_type": "stream",
     "text": [
      "[[9 8 9]\n",
      " [1 9 7]\n",
      " [5 2 1]]\n",
      "[[19 18 19]\n",
      " [ 1 19 17]\n",
      " [ 5  2  1]]\n",
      "[0 0 1 2]\n",
      "[0 1 1 2]\n"
     ]
    }
   ],
   "source": [
    "a = np.random.randint(1,10,(3,3))\n",
    "print(a)\n",
    "idxs = np.where(a>5, a+10, a)\n",
    "print(idxs)\n",
    "\n",
    "np.any(a>50, axis=0)\n",
    "np.all(a>5)\n",
    "\n",
    "((a>1),(a<10))\n",
    "\n",
    "a = np.identity(3)\n",
    "a[0,1]=1\n",
    "idxs = np.where(a==1)\n",
    "print(idxs[0])\n",
    "print(idxs[1])\n"
   ]
  }
 ],
 "metadata": {
  "kernelspec": {
   "display_name": "Python 3 (ipykernel)",
   "language": "python",
   "name": "python3"
  },
  "language_info": {
   "codemirror_mode": {
    "name": "ipython",
    "version": 3
   },
   "file_extension": ".py",
   "mimetype": "text/x-python",
   "name": "python",
   "nbconvert_exporter": "python",
   "pygments_lexer": "ipython3",
   "version": "3.9.7"
  }
 },
 "nbformat": 4,
 "nbformat_minor": 5
}
