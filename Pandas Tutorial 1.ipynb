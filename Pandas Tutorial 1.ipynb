{
 "cells": [
  {
   "cell_type": "code",
   "execution_count": 14,
   "id": "aa98bc9c",
   "metadata": {
    "scrolled": true
   },
   "outputs": [
    {
     "name": "stdout",
     "output_type": "stream",
     "text": [
      "   Eleanor  Chidi  Tahani  Jason\n",
      "0       69     93      63     52\n",
      "1       67     90      24     67\n",
      "2       46      3      46     19\n",
      "69\n",
      "   Eleanor  Chidi  Tahani  Jason  Janet\n",
      "0       69     93      63     52    162\n",
      "1       67     90      24     67    157\n",
      "2       46      3      46     19     49\n"
     ]
    }
   ],
   "source": [
    "import numpy as np\n",
    "import pandas as pd\n",
    "\n",
    "a = np.random.randint(0,101, size=(3,4))\n",
    "\n",
    "colnames = ['Eleanor', 'Chidi', 'Tahani', 'Jason']\n",
    "df = pd.DataFrame(data=a, columns=colnames)\n",
    "print(df)\n",
    "print(df['Eleanor'][0])\n",
    "\n",
    "df['Janet'] = df['Eleanor'] + df['Chidi']\n",
    "print(df)"
   ]
  },
  {
   "cell_type": "code",
   "execution_count": 16,
   "id": "9a25e643",
   "metadata": {},
   "outputs": [],
   "source": [
    "# Panda dataframes have the same problem as with numpy when copying by a=b\n",
    "# Solution: similar approach as with numpy, use copy() function instead.\n",
    "b = df.copy()\n",
    "\n"
   ]
  }
 ],
 "metadata": {
  "kernelspec": {
   "display_name": "Python 3 (ipykernel)",
   "language": "python",
   "name": "python3"
  },
  "language_info": {
   "codemirror_mode": {
    "name": "ipython",
    "version": 3
   },
   "file_extension": ".py",
   "mimetype": "text/x-python",
   "name": "python",
   "nbconvert_exporter": "python",
   "pygments_lexer": "ipython3",
   "version": "3.9.7"
  }
 },
 "nbformat": 4,
 "nbformat_minor": 5
}
